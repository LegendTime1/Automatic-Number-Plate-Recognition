{
  "nbformat": 4,
  "nbformat_minor": 0,
  "metadata": {
    "colab": {
      "provenance": [],
      "gpuType": "T4",
      "mount_file_id": "1_V7d-0vpaPWG5ptn1GsR5UhoF2JYz0n9",
      "authorship_tag": "ABX9TyOZiYaxwTg0Wq/yNMtSIpDr",
      "include_colab_link": true
    },
    "kernelspec": {
      "name": "python3",
      "display_name": "Python 3"
    },
    "language_info": {
      "name": "python"
    },
    "accelerator": "GPU"
  },
  "cells": [
    {
      "cell_type": "markdown",
      "metadata": {
        "id": "view-in-github",
        "colab_type": "text"
      },
      "source": [
        "<a href=\"https://colab.research.google.com/github/LegendTime1/Automatic-Number-Plate-Recognition/blob/main/Automatic_Number_Plate_Recog.ipynb\" target=\"_parent\"><img src=\"https://colab.research.google.com/assets/colab-badge.svg\" alt=\"Open In Colab\"/></a>"
      ]
    },
    {
      "cell_type": "code",
      "execution_count": 1,
      "metadata": {
        "colab": {
          "base_uri": "https://localhost:8080/"
        },
        "id": "o1AMYWf8lSRf",
        "outputId": "df6bb947-6705-46d4-d102-d47ef2c748b5"
      },
      "outputs": [
        {
          "output_type": "stream",
          "name": "stdout",
          "text": [
            "Mounted at /content/drive\n"
          ]
        }
      ],
      "source": [
        "from google.colab import drive\n",
        "drive.mount('/content/drive')"
      ]
    },
    {
      "cell_type": "code",
      "source": [
        "!git clone https://github.com/computervisioneng/yolov3-from-opencv-object-detection.git"
      ],
      "metadata": {
        "id": "46u20n9PlnQB",
        "colab": {
          "base_uri": "https://localhost:8080/"
        },
        "outputId": "905d46c1-3326-4279-f529-7640fc6c8f55"
      },
      "execution_count": 2,
      "outputs": [
        {
          "output_type": "stream",
          "name": "stdout",
          "text": [
            "Cloning into 'yolov3-from-opencv-object-detection'...\n",
            "remote: Enumerating objects: 16, done.\u001b[K\n",
            "remote: Counting objects: 100% (16/16), done.\u001b[K\n",
            "remote: Compressing objects: 100% (13/13), done.\u001b[K\n",
            "remote: Total 16 (delta 2), reused 12 (delta 1), pack-reused 0\u001b[K\n",
            "Receiving objects: 100% (16/16), 649.07 KiB | 19.09 MiB/s, done.\n",
            "Resolving deltas: 100% (2/2), done.\n"
          ]
        }
      ]
    },
    {
      "cell_type": "code",
      "source": [
        "%cd yolov3-from-opencv-object-detection/"
      ],
      "metadata": {
        "colab": {
          "base_uri": "https://localhost:8080/"
        },
        "id": "ep77nl4mCDAD",
        "outputId": "10a19bef-02fd-4562-ea9c-c04ce1fd3709"
      },
      "execution_count": 2,
      "outputs": [
        {
          "output_type": "stream",
          "name": "stdout",
          "text": [
            "/content/yolov3-from-opencv-object-detection\n"
          ]
        }
      ]
    },
    {
      "cell_type": "code",
      "source": [
        "pip install -r requirements.txt"
      ],
      "metadata": {
        "colab": {
          "base_uri": "https://localhost:8080/"
        },
        "id": "WT3juKvbCIIa",
        "outputId": "8f02771d-b40e-4400-880e-e9f3e2b7e4fb"
      },
      "execution_count": 3,
      "outputs": [
        {
          "output_type": "stream",
          "name": "stdout",
          "text": [
            "Requirement already satisfied: opencv-python==4.6.0.66 in /usr/local/lib/python3.10/dist-packages (from -r requirements.txt (line 1)) (4.6.0.66)\n",
            "Requirement already satisfied: matplotlib==3.6.0 in /usr/local/lib/python3.10/dist-packages (from -r requirements.txt (line 2)) (3.6.0)\n",
            "Requirement already satisfied: numpy==1.23.3 in /usr/local/lib/python3.10/dist-packages (from -r requirements.txt (line 3)) (1.23.3)\n",
            "Requirement already satisfied: contourpy>=1.0.1 in /usr/local/lib/python3.10/dist-packages (from matplotlib==3.6.0->-r requirements.txt (line 2)) (1.2.1)\n",
            "Requirement already satisfied: cycler>=0.10 in /usr/local/lib/python3.10/dist-packages (from matplotlib==3.6.0->-r requirements.txt (line 2)) (0.12.1)\n",
            "Requirement already satisfied: fonttools>=4.22.0 in /usr/local/lib/python3.10/dist-packages (from matplotlib==3.6.0->-r requirements.txt (line 2)) (4.53.0)\n",
            "Requirement already satisfied: kiwisolver>=1.0.1 in /usr/local/lib/python3.10/dist-packages (from matplotlib==3.6.0->-r requirements.txt (line 2)) (1.4.5)\n",
            "Requirement already satisfied: packaging>=20.0 in /usr/local/lib/python3.10/dist-packages (from matplotlib==3.6.0->-r requirements.txt (line 2)) (24.0)\n",
            "Requirement already satisfied: pillow>=6.2.0 in /usr/local/lib/python3.10/dist-packages (from matplotlib==3.6.0->-r requirements.txt (line 2)) (9.4.0)\n",
            "Requirement already satisfied: pyparsing>=2.2.1 in /usr/local/lib/python3.10/dist-packages (from matplotlib==3.6.0->-r requirements.txt (line 2)) (3.1.2)\n",
            "Requirement already satisfied: python-dateutil>=2.7 in /usr/local/lib/python3.10/dist-packages (from matplotlib==3.6.0->-r requirements.txt (line 2)) (2.8.2)\n",
            "Requirement already satisfied: six>=1.5 in /usr/local/lib/python3.10/dist-packages (from python-dateutil>=2.7->matplotlib==3.6.0->-r requirements.txt (line 2)) (1.16.0)\n"
          ]
        }
      ]
    },
    {
      "cell_type": "code",
      "source": [
        "!wget https://raw.githubusercontent.com/computervisioneng/yolo-license-plate-detection/master/model/config/darknet-yolov3.cfg"
      ],
      "metadata": {
        "colab": {
          "base_uri": "https://localhost:8080/"
        },
        "id": "W_mvIzH4FjYV",
        "outputId": "f90510ed-dee7-4f18-91d6-8484628ed62e"
      },
      "execution_count": 4,
      "outputs": [
        {
          "output_type": "stream",
          "name": "stdout",
          "text": [
            "--2024-06-12 11:18:20--  https://raw.githubusercontent.com/computervisioneng/yolo-license-plate-detection/master/model/config/darknet-yolov3.cfg\n",
            "Resolving raw.githubusercontent.com (raw.githubusercontent.com)... 185.199.109.133, 185.199.110.133, 185.199.111.133, ...\n",
            "Connecting to raw.githubusercontent.com (raw.githubusercontent.com)|185.199.109.133|:443... connected.\n",
            "HTTP request sent, awaiting response... 200 OK\n",
            "Length: 8334 (8.1K) [text/plain]\n",
            "Saving to: ‘darknet-yolov3.cfg’\n",
            "\n",
            "\rdarknet-yolov3.cfg    0%[                    ]       0  --.-KB/s               \rdarknet-yolov3.cfg  100%[===================>]   8.14K  --.-KB/s    in 0s      \n",
            "\n",
            "2024-06-12 11:18:20 (66.4 MB/s) - ‘darknet-yolov3.cfg’ saved [8334/8334]\n",
            "\n"
          ]
        }
      ]
    },
    {
      "cell_type": "code",
      "source": [
        "!wget https://raw.githubusercontent.com/computervisioneng/yolo-license-plate-detection/master/model/classes.names"
      ],
      "metadata": {
        "colab": {
          "base_uri": "https://localhost:8080/"
        },
        "id": "5nBuGPa-Hcrx",
        "outputId": "187b5ae0-4d57-4ade-eb17-833b0f3a52b7"
      },
      "execution_count": 5,
      "outputs": [
        {
          "output_type": "stream",
          "name": "stdout",
          "text": [
            "--2024-06-12 11:18:30--  https://raw.githubusercontent.com/computervisioneng/yolo-license-plate-detection/master/model/classes.names\n",
            "Resolving raw.githubusercontent.com (raw.githubusercontent.com)... 185.199.108.133, 185.199.109.133, 185.199.110.133, ...\n",
            "Connecting to raw.githubusercontent.com (raw.githubusercontent.com)|185.199.108.133|:443... connected.\n",
            "HTTP request sent, awaiting response... 200 OK\n",
            "Length: 13 [text/plain]\n",
            "Saving to: ‘classes.names’\n",
            "\n",
            "\rclasses.names         0%[                    ]       0  --.-KB/s               \rclasses.names       100%[===================>]      13  --.-KB/s    in 0s      \n",
            "\n",
            "2024-06-12 11:18:30 (1.16 MB/s) - ‘classes.names’ saved [13/13]\n",
            "\n"
          ]
        }
      ]
    },
    {
      "cell_type": "code",
      "source": [
        "!python3 main.py"
      ],
      "metadata": {
        "colab": {
          "base_uri": "https://localhost:8080/"
        },
        "id": "xKcXhoy2LwV4",
        "outputId": "412fe0f9-fab6-4b33-afc3-6735dcf1e6a8"
      },
      "execution_count": 28,
      "outputs": [
        {
          "output_type": "stream",
          "name": "stdout",
          "text": [
            "wartburg-2456243_1920.jpg\n",
            "[[[2 2 2]\n",
            "  [2 2 2]\n",
            "  [3 3 3]\n",
            "  ...\n",
            "  [0 4 2]\n",
            "  [0 3 1]\n",
            "  [0 3 1]]\n",
            "\n",
            " [[1 1 1]\n",
            "  [2 2 2]\n",
            "  [2 2 2]\n",
            "  ...\n",
            "  [0 5 3]\n",
            "  [0 5 3]\n",
            "  [0 4 2]]\n",
            "\n",
            " [[0 0 0]\n",
            "  [1 1 1]\n",
            "  [1 1 1]\n",
            "  ...\n",
            "  [1 6 4]\n",
            "  [1 6 4]\n",
            "  [1 6 4]]\n",
            "\n",
            " ...\n",
            "\n",
            " [[0 0 0]\n",
            "  [0 0 0]\n",
            "  [1 1 1]\n",
            "  ...\n",
            "  [3 3 3]\n",
            "  [3 3 3]\n",
            "  [3 3 3]]\n",
            "\n",
            " [[0 0 0]\n",
            "  [0 0 0]\n",
            "  [1 1 1]\n",
            "  ...\n",
            "  [4 4 4]\n",
            "  [4 4 4]\n",
            "  [3 3 3]]\n",
            "\n",
            " [[0 0 0]\n",
            "  [0 0 0]\n",
            "  [1 1 1]\n",
            "  ...\n",
            "  [5 5 5]\n",
            "  [4 4 4]\n",
            "  [4 4 4]]]\n",
            "Figure(640x480)\n",
            "car-6122177_1920.jpg\n",
            "[[[250 245 244]\n",
            "  [250 245 244]\n",
            "  [250 245 244]\n",
            "  ...\n",
            "  [179 175 174]\n",
            "  [179 175 174]\n",
            "  [179 175 174]]\n",
            "\n",
            " [[250 245 244]\n",
            "  [250 245 244]\n",
            "  [250 245 244]\n",
            "  ...\n",
            "  [179 175 174]\n",
            "  [179 175 174]\n",
            "  [179 175 174]]\n",
            "\n",
            " [[250 245 244]\n",
            "  [250 245 244]\n",
            "  [250 245 244]\n",
            "  ...\n",
            "  [179 175 174]\n",
            "  [179 175 174]\n",
            "  [179 175 174]]\n",
            "\n",
            " ...\n",
            "\n",
            " [[145 148 153]\n",
            "  [145 148 153]\n",
            "  [148 151 156]\n",
            "  ...\n",
            "  [162 160 160]\n",
            "  [162 160 160]\n",
            "  [162 160 160]]\n",
            "\n",
            " [[178 179 183]\n",
            "  [180 181 185]\n",
            "  [183 184 188]\n",
            "  ...\n",
            "  [161 159 159]\n",
            "  [161 159 159]\n",
            "  [162 160 160]]\n",
            "\n",
            " [[171 172 176]\n",
            "  [172 173 177]\n",
            "  [172 173 177]\n",
            "  ...\n",
            "  [162 160 160]\n",
            "  [162 160 160]\n",
            "  [163 161 161]]]\n",
            "Figure(640x480)\n",
            "cadillac-7304111_1920.jpg\n",
            "[[[165 165 165]\n",
            "  [165 165 165]\n",
            "  [165 165 165]\n",
            "  ...\n",
            "  [103  91  89]\n",
            "  [103  90  88]\n",
            "  [102  89  87]]\n",
            "\n",
            " [[165 165 165]\n",
            "  [165 165 165]\n",
            "  [165 165 165]\n",
            "  ...\n",
            "  [104  92  90]\n",
            "  [103  90  88]\n",
            "  [101  88  86]]\n",
            "\n",
            " [[164 164 164]\n",
            "  [164 164 164]\n",
            "  [165 165 165]\n",
            "  ...\n",
            "  [104  94  94]\n",
            "  [104  92  92]\n",
            "  [102  90  90]]\n",
            "\n",
            " ...\n",
            "\n",
            " [[102  99 101]\n",
            "  [103 100 102]\n",
            "  [103 100 102]\n",
            "  ...\n",
            "  [114 107 110]\n",
            "  [116 109 112]\n",
            "  [119 112 115]]\n",
            "\n",
            " [[104 101 103]\n",
            "  [105 102 104]\n",
            "  [105 102 104]\n",
            "  ...\n",
            "  [117 110 113]\n",
            "  [118 111 114]\n",
            "  [119 112 115]]\n",
            "\n",
            " [[108 105 107]\n",
            "  [109 106 108]\n",
            "  [109 106 108]\n",
            "  ...\n",
            "  [120 113 116]\n",
            "  [119 112 115]\n",
            "  [119 112 115]]]\n",
            "Figure(640x480)\n",
            "car-6366999_1920.jpg\n",
            "[[[  8  14  25]\n",
            "  [  9  15  26]\n",
            "  [ 10  15  30]\n",
            "  ...\n",
            "  [ 42  46  75]\n",
            "  [ 41  43  77]\n",
            "  [ 40  42  76]]\n",
            "\n",
            " [[  8  14  25]\n",
            "  [  9  15  26]\n",
            "  [ 10  15  30]\n",
            "  ...\n",
            "  [ 40  44  73]\n",
            "  [ 39  42  73]\n",
            "  [ 38  41  72]]\n",
            "\n",
            " [[  8  14  25]\n",
            "  [  8  14  25]\n",
            "  [ 10  15  30]\n",
            "  ...\n",
            "  [ 33  40  65]\n",
            "  [ 35  39  67]\n",
            "  [ 34  38  67]]\n",
            "\n",
            " ...\n",
            "\n",
            " [[119 177 183]\n",
            "  [142 197 204]\n",
            "  [175 229 236]\n",
            "  ...\n",
            "  [170 236 235]\n",
            "  [190 254 254]\n",
            "  [142 207 205]]\n",
            "\n",
            " [[ 77 139 147]\n",
            "  [105 165 171]\n",
            "  [ 55 115 121]\n",
            "  ...\n",
            "  [ 32 100  99]\n",
            "  [ 33 102  99]\n",
            "  [ 26  97  94]]\n",
            "\n",
            " [[143 205 215]\n",
            "  [169 234 242]\n",
            "  [ 93 158 166]\n",
            "  ...\n",
            "  [ 63 135 129]\n",
            "  [ 81 162 153]\n",
            "  [ 13 100  90]]]\n",
            "Figure(640x480)\n",
            "ferrari-188954_1920.jpg\n",
            "[[[ 30  28  28]\n",
            "  [ 29  27  27]\n",
            "  [ 28  26  26]\n",
            "  ...\n",
            "  [  5  12   9]\n",
            "  [  4  13  10]\n",
            "  [  4  13  10]]\n",
            "\n",
            " [[ 27  25  25]\n",
            "  [ 28  26  26]\n",
            "  [ 28  26  26]\n",
            "  ...\n",
            "  [  0   6   3]\n",
            "  [  0   7   4]\n",
            "  [  0   7   4]]\n",
            "\n",
            " [[ 25  23  23]\n",
            "  [ 26  24  24]\n",
            "  [ 28  26  26]\n",
            "  ...\n",
            "  [  0   6   3]\n",
            "  [  0   7   4]\n",
            "  [  0   8   5]]\n",
            "\n",
            " ...\n",
            "\n",
            " [[ 85  69  62]\n",
            "  [103  88  79]\n",
            "  [101  83  76]\n",
            "  ...\n",
            "  [ 72  55  52]\n",
            "  [ 71  54  51]\n",
            "  [ 92  75  72]]\n",
            "\n",
            " [[ 86  71  62]\n",
            "  [ 88  74  62]\n",
            "  [ 90  73  64]\n",
            "  ...\n",
            "  [ 76  56  55]\n",
            "  [ 87  67  66]\n",
            "  [ 91  71  70]]\n",
            "\n",
            " [[ 91  77  65]\n",
            "  [ 88  74  62]\n",
            "  [117 101  89]\n",
            "  ...\n",
            "  [ 75  55  54]\n",
            "  [ 74  54  53]\n",
            "  [ 82  62  61]]]\n",
            "Figure(640x480)\n",
            "automobile-1846297_1920.jpg\n",
            "[[[205 181 161]\n",
            "  [205 181 161]\n",
            "  [204 183 162]\n",
            "  ...\n",
            "  [195 173 148]\n",
            "  [194 172 147]\n",
            "  [193 171 146]]\n",
            "\n",
            " [[205 181 161]\n",
            "  [204 180 160]\n",
            "  [203 182 161]\n",
            "  ...\n",
            "  [196 174 149]\n",
            "  [196 174 149]\n",
            "  [195 173 148]]\n",
            "\n",
            " [[205 181 161]\n",
            "  [203 179 159]\n",
            "  [202 181 160]\n",
            "  ...\n",
            "  [194 172 147]\n",
            "  [194 172 147]\n",
            "  [195 173 148]]\n",
            "\n",
            " ...\n",
            "\n",
            " [[ 49  64  56]\n",
            "  [  8  23  15]\n",
            "  [  4  14   8]\n",
            "  ...\n",
            "  [114 136 131]\n",
            "  [ 56  76  71]\n",
            "  [  0  13   8]]\n",
            "\n",
            " [[ 49  62  54]\n",
            "  [ 10  23  15]\n",
            "  [  7  17  11]\n",
            "  ...\n",
            "  [ 24  46  41]\n",
            "  [ 98 118 113]\n",
            "  [ 35  52  48]]\n",
            "\n",
            " [[ 27  40  32]\n",
            "  [ 34  47  39]\n",
            "  [ 38  45  40]\n",
            "  ...\n",
            "  [  0  17  12]\n",
            "  [  8  25  21]\n",
            "  [ 45  62  58]]]\n",
            "Figure(640x480)\n",
            "automobile-418879_1920.jpg\n",
            "[[[ 10  24  23]\n",
            "  [ 20  34  33]\n",
            "  [  1  16  19]\n",
            "  ...\n",
            "  [113 154 133]\n",
            "  [112 151 130]\n",
            "  [105 144 123]]\n",
            "\n",
            " [[ 14  35  36]\n",
            "  [ 37  58  59]\n",
            "  [ 44  68  68]\n",
            "  ...\n",
            "  [113 152 131]\n",
            "  [113 149 132]\n",
            "  [106 143 123]]\n",
            "\n",
            " [[ 24  62  64]\n",
            "  [ 43  81  81]\n",
            "  [ 47  86  84]\n",
            "  ...\n",
            "  [111 145 128]\n",
            "  [118 149 134]\n",
            "  [120 152 135]]\n",
            "\n",
            " ...\n",
            "\n",
            " [[ 95  96 106]\n",
            "  [107 109 119]\n",
            "  [104 106 117]\n",
            "  ...\n",
            "  [189 207 206]\n",
            "  [196 214 213]\n",
            "  [146 164 163]]\n",
            "\n",
            " [[ 91  96  99]\n",
            "  [ 88  93  96]\n",
            "  [ 68  72  77]\n",
            "  ...\n",
            "  [126 144 145]\n",
            "  [158 176 177]\n",
            "  [179 197 198]]\n",
            "\n",
            " [[110 116 115]\n",
            "  [114 120 119]\n",
            "  [122 129 132]\n",
            "  ...\n",
            "  [137 154 157]\n",
            "  [130 147 150]\n",
            "  [189 206 209]]]\n",
            "Figure(640x480)\n"
          ]
        }
      ]
    },
    {
      "cell_type": "code",
      "source": [
        "!rm -rf data"
      ],
      "metadata": {
        "id": "Xmjv9e4SZ73z"
      },
      "execution_count": 26,
      "outputs": []
    },
    {
      "cell_type": "code",
      "source": [
        "%cd .."
      ],
      "metadata": {
        "colab": {
          "base_uri": "https://localhost:8080/"
        },
        "id": "_5yP4N32O4mk",
        "outputId": "fa0f2dde-c44a-4bd3-d2a7-b3a94d8134c6"
      },
      "execution_count": 10,
      "outputs": [
        {
          "output_type": "stream",
          "name": "stdout",
          "text": [
            "/content\n"
          ]
        }
      ]
    },
    {
      "cell_type": "code",
      "source": [
        "#To get \"data\" folder which contains images of cars\n",
        "#!git clone https://github.com/computervisioneng/yolo-license-plate-detection.git"
      ],
      "metadata": {
        "colab": {
          "base_uri": "https://localhost:8080/"
        },
        "id": "V5XcZgWiO8B6",
        "outputId": "071bb4aa-ef27-4da5-f898-9ea4a2c8efb5"
      },
      "execution_count": 29,
      "outputs": [
        {
          "output_type": "stream",
          "name": "stdout",
          "text": [
            "Cloning into 'yolo-license-plate-detection'...\n",
            "remote: Enumerating objects: 116, done.\u001b[K\n",
            "remote: Counting objects: 100% (72/72), done.\u001b[K\n",
            "remote: Compressing objects: 100% (55/55), done.\u001b[K\n",
            "remote: Total 116 (delta 18), reused 67 (delta 13), pack-reused 44\u001b[K\n",
            "Receiving objects: 100% (116/116), 5.15 MiB | 39.06 MiB/s, done.\n",
            "Resolving deltas: 100% (48/48), done.\n"
          ]
        }
      ]
    }
  ]
}